{
 "cells": [
  {
   "cell_type": "code",
   "execution_count": 3,
   "metadata": {},
   "outputs": [],
   "source": [
    "import matplotlib.pyplot as plt\n",
    "from wordcloud import WordCloud\n",
    "import json\n",
    "import requests\n",
    "\n",
    "class Reddit:\n",
    "\n",
    "  def __init__(self, subreddit, limit):\n",
    "    self.subreddit = subreddit\n",
    "    self.limit = limit\n",
    "    self.timeframe = 'month'\n",
    "    self.listing = 'top'\n",
    "    \n",
    "  def get_reddit(self):\n",
    "      try:\n",
    "          base_url = f'https://www.reddit.com/r/{self.subreddit}/{self.listing}.json?limit={self.limit}&t={self.timeframe}'\n",
    "          request = requests.get(base_url, headers = {'User-agent': 'yourbot'})\n",
    "      except:\n",
    "          print('Um erro ocorreu!')\n",
    "      return request.json()\n",
    "  \n",
    "  def get_post_titles(self, r):\n",
    "      '''\n",
    "      Pega os posts\n",
    "      '''\n",
    "      posts = []\n",
    "      for post in r['data']['children']:\n",
    "          x = post['data']['title']\n",
    "          posts.append(x)\n",
    "      return posts\n",
    "\n",
    "  def wordcloud(self):\n",
    "    r = self.get_reddit()\n",
    "    posts = self.get_post_titles(r)\n",
    "\n",
    "    # Nuvem de palavras\n",
    "    wc = WordCloud(background_color=\"white\", max_words=2000, contour_width=1)\n",
    "\n",
    "    # inclui as palavras na nuvem\n",
    "    tweets_texts = ' '.join(posts) # converte lista de textos em um único texto\n",
    "    wc.generate(tweets_texts)\n",
    "\n",
    "    # mostra a nuvem de palavras\n",
    "    plt.figure(figsize = (10,10))\n",
    "    plt.imshow(wc); \n",
    "    plt.axis(\"off\");\n",
    "    plt.show()"
   ]
  }
 ],
 "metadata": {
  "kernelspec": {
   "display_name": ".venv",
   "language": "python",
   "name": "python3"
  },
  "language_info": {
   "codemirror_mode": {
    "name": "ipython",
    "version": 3
   },
   "file_extension": ".py",
   "mimetype": "text/x-python",
   "name": "python",
   "nbconvert_exporter": "python",
   "pygments_lexer": "ipython3",
   "version": "3.11.5"
  }
 },
 "nbformat": 4,
 "nbformat_minor": 2
}
